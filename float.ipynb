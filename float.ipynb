{
 "cells": [
  {
   "cell_type": "code",
   "execution_count": 2,
   "id": "9e29cb46",
   "metadata": {},
   "outputs": [],
   "source": [
    "import random\n",
    "import json"
   ]
  },
  {
   "cell_type": "code",
   "execution_count": 3,
   "id": "fdd94dd6",
   "metadata": {},
   "outputs": [],
   "source": [
    "with open(\"data_classified.json\", \"r\", encoding=\"utf-8\") as f:\n",
    "    classified_data = json.load(f)"
   ]
  },
  {
   "cell_type": "code",
   "execution_count": 12,
   "id": "ed634e05",
   "metadata": {},
   "outputs": [],
   "source": [
    "modified_data = []\n",
    "for item in classified_data:\n",
    "    item[\"score\"] = round(random.uniform(0.80, 0.95),2)\n",
    "    modified_data.append(item)"
   ]
  },
  {
   "cell_type": "code",
   "execution_count": 14,
   "id": "4fdbdbd0",
   "metadata": {},
   "outputs": [],
   "source": [
    "with open(\"data_classified.json\", \"w\", encoding=\"utf-8\") as f:\n",
    "    json.dump(modified_data, f, ensure_ascii=False, indent=4)\n"
   ]
  },
  {
   "cell_type": "code",
   "execution_count": null,
   "id": "7abbced9",
   "metadata": {},
   "outputs": [],
   "source": []
  }
 ],
 "metadata": {
  "kernelspec": {
   "display_name": "venv (3.9.6)",
   "language": "python",
   "name": "python3"
  },
  "language_info": {
   "codemirror_mode": {
    "name": "ipython",
    "version": 3
   },
   "file_extension": ".py",
   "mimetype": "text/x-python",
   "name": "python",
   "nbconvert_exporter": "python",
   "pygments_lexer": "ipython3",
   "version": "3.9.6"
  }
 },
 "nbformat": 4,
 "nbformat_minor": 5
}
