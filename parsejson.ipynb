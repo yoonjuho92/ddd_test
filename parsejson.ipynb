{
 "cells": [
  {
   "cell_type": "code",
   "execution_count": null,
   "id": "c17e4e8b",
   "metadata": {},
   "outputs": [],
   "source": [
    "import json\n",
    "from pathlib import Path\n",
    "from openai import OpenAI\n",
    "folder_path = Path(\"./json/3.개방데이터/1.데이터/Validation/02.라벨링데이터/VL_out\")\n",
    "\n",
    "client = OpenAI(api_key=openai_api_key)"
   ]
  },
  {
   "cell_type": "code",
   "execution_count": 8,
   "id": "d95e1727",
   "metadata": {},
   "outputs": [],
   "source": [
    "def extract_audio_content(data:json):\n",
    "    content = []\n",
    "    for item in data[\"list\"]:\n",
    "        for sub_item in item[\"list\"]:\n",
    "            if \"audio\" in sub_item:\n",
    "                content += sub_item[\"audio\"]\n",
    "    projected_content = []\n",
    "    keys_to_keep = [\"type\", \"text\"]\n",
    "    for item in content:\n",
    "        projected_item = {k: item[k] for k in keys_to_keep if k in item}\n",
    "        projected_content.append(projected_item)\n",
    "    return projected_content"
   ]
  },
  {
   "cell_type": "code",
   "execution_count": 9,
   "id": "874bcc9c",
   "metadata": {},
   "outputs": [],
   "source": [
    "with open(\"data.json\", \"r\", encoding=\"utf-8\") as f:\n",
    "    data = json.load(f)"
   ]
  },
  {
   "cell_type": "code",
   "execution_count": 10,
   "id": "9941a6a6",
   "metadata": {},
   "outputs": [
    {
     "data": {
      "text/plain": [
       "2"
      ]
     },
     "execution_count": 10,
     "metadata": {},
     "output_type": "execute_result"
    }
   ],
   "source": [
    "len(data[0])"
   ]
  },
  {
   "cell_type": "code",
   "execution_count": 11,
   "id": "e9560658",
   "metadata": {},
   "outputs": [],
   "source": [
    "prompt = \"\"\"\n",
    "당신은 아동 발달 전문가이자 교육 상담가입니다.  \n",
    "아동 상담 결과 기록이 주어지면, 해당 아동의 성향을 다음 기준으로 분석하세요:\n",
    "\n",
    "1. 가드너의 다중지능 이론 (8가지 지능 영역)\n",
    "   - 언어지능 (linguistic)\n",
    "   - 논리·수학지능 (logical-mathematical)\n",
    "   - 음악지능 (musical)\n",
    "   - 공간지능 (spatial)\n",
    "   - 신체·운동지능 (bodily-kinesthetic)\n",
    "   - 대인관계지능 (interpersonal)\n",
    "   - 자기성찰지능 (intrapersonal)\n",
    "   - 자연탐구지능 (naturalistic)\n",
    "\n",
    "2. 성격적 성향\n",
    "   - 내향형 / 외향형 중 어느 쪽이 더 두드러지는지  \n",
    "\n",
    "출력 형식 :\n",
    "(가장 발달한 지능 유형, 내/외향형)\n",
    "예시) (대인관계지능, 외향형)\n",
    "\n",
    "상담 기록: \n",
    "{text}\n",
    "\"\"\""
   ]
  },
  {
   "cell_type": "code",
   "execution_count": 12,
   "id": "077eb068",
   "metadata": {},
   "outputs": [],
   "source": [
    "def classify(data):\n",
    "    input = prompt.format(text=data[\"content\"])\n",
    "    response = client.responses.create(\n",
    "        model=\"gpt-4o-mini\", input=input, temperature=0\n",
    "    )\n",
    "    return response.output[0].content[0].text"
   ]
  },
  {
   "cell_type": "code",
   "execution_count": 14,
   "id": "a33c99d6",
   "metadata": {},
   "outputs": [],
   "source": [
    "data_concat_char = []\n",
    "for item in data[:100]:\n",
    "    classification = classify(item)\n",
    "    data_concat_char.append({\n",
    "        \"id\": item[\"id\"],\n",
    "        \"content\": item[\"content\"],\n",
    "        \"classification\": classification\n",
    "    })"
   ]
  },
  {
   "cell_type": "code",
   "execution_count": 16,
   "id": "431329e2",
   "metadata": {},
   "outputs": [],
   "source": [
    "processed_data = []\n",
    "for item in data_concat_char:\n",
    "    ordered_item = {\n",
    "        \"id\": item[\"id\"],\n",
    "        \"character\": item[\"classification\"],\n",
    "        \"content\": item[\"content\"],\n",
    "    }\n",
    "    processed_data.append(ordered_item)"
   ]
  },
  {
   "cell_type": "code",
   "execution_count": 17,
   "id": "0d5304de",
   "metadata": {},
   "outputs": [],
   "source": [
    "with open(\"data_classified.json\", \"w\", encoding=\"utf-8\") as f:\n",
    "    json.dump(processed_data, f, ensure_ascii=False, indent=4)"
   ]
  },
  {
   "cell_type": "code",
   "execution_count": 24,
   "id": "4b6ca19f",
   "metadata": {},
   "outputs": [],
   "source": [
    "book_prompt = \"\"\"\n",
    "당신은 아동 발달 전문가이자 교육 상담가입니다.  \n",
    "상담 기록과 상담 기록을 통해 분석한 아동의 성향을 보고 알맞은 교재를 선택해 주세요.\n",
    "\n",
    "1. 선택 가능한 교재의 목록\n",
    "{books}\n",
    "\n",
    "2. 상담 기록을 통해 분석된 성향\n",
    "{character}\n",
    "\n",
    "출력 형식 (교재 이름만 출력하세요) :\n",
    "교재명\n",
    "\n",
    "상담 기록: \n",
    "{text}\n",
    "\"\"\""
   ]
  },
  {
   "cell_type": "code",
   "execution_count": 19,
   "id": "63c91f7b",
   "metadata": {},
   "outputs": [],
   "source": [
    "with open(\"books.json\", \"r\", encoding=\"utf-8\") as f:\n",
    "    books = json.load(f)"
   ]
  },
  {
   "cell_type": "code",
   "execution_count": 22,
   "id": "761f156c",
   "metadata": {},
   "outputs": [],
   "source": [
    "def classify_book(data):\n",
    "    input = book_prompt.format(books=books, character=data[\"character\"], text=data[\"content\"])\n",
    "    response = client.responses.create(model=\"gpt-4o-mini\", input=input, temperature=0)\n",
    "    return response.output[0].content[0].text"
   ]
  },
  {
   "cell_type": "code",
   "execution_count": 31,
   "id": "b0b07859",
   "metadata": {},
   "outputs": [],
   "source": [
    "data_concat_book = []\n",
    "for item in processed_data:\n",
    "    book = classify_book(item)\n",
    "    item[\"book\"] = book\n",
    "    data_concat_book.append(item)"
   ]
  },
  {
   "cell_type": "code",
   "execution_count": 32,
   "id": "828ade92",
   "metadata": {},
   "outputs": [],
   "source": [
    "with open(\"data_classified.json\", \"w\", encoding=\"utf-8\") as f:\n",
    "    json.dump(data_concat_book, f, ensure_ascii=False, indent=4)"
   ]
  },
  {
   "cell_type": "code",
   "execution_count": null,
   "id": "6531cce9",
   "metadata": {},
   "outputs": [
    {
     "data": {
      "text/plain": [
       "100"
      ]
     },
     "execution_count": 33,
     "metadata": {},
     "output_type": "execute_result"
    }
   ],
   "source": []
  },
  {
   "cell_type": "code",
   "execution_count": null,
   "id": "37b6f8ad",
   "metadata": {},
   "outputs": [],
   "source": []
  }
 ],
 "metadata": {
  "kernelspec": {
   "display_name": "venv (3.9.6)",
   "language": "python",
   "name": "python3"
  },
  "language_info": {
   "codemirror_mode": {
    "name": "ipython",
    "version": 3
   },
   "file_extension": ".py",
   "mimetype": "text/x-python",
   "name": "python",
   "nbconvert_exporter": "python",
   "pygments_lexer": "ipython3",
   "version": "3.9.6"
  }
 },
 "nbformat": 4,
 "nbformat_minor": 5
}
